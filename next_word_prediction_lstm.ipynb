{
  "nbformat": 4,
  "nbformat_minor": 0,
  "metadata": {
    "colab": {
      "provenance": [],
      "gpuType": "T4"
    },
    "kernelspec": {
      "name": "python3",
      "display_name": "Python 3"
    },
    "language_info": {
      "name": "python"
    },
    "accelerator": "GPU"
  },
  "cells": [
    {
      "cell_type": "code",
      "source": [
        "from google.colab import drive\n",
        "drive.mount('/content/drive')"
      ],
      "metadata": {
        "colab": {
          "base_uri": "https://localhost:8080/"
        },
        "id": "QhhdrMcOv46y",
        "outputId": "542bf01e-595b-44aa-cd5c-7dd298ed6c04"
      },
      "execution_count": null,
      "outputs": [
        {
          "output_type": "stream",
          "name": "stdout",
          "text": [
            "Mounted at /content/drive\n"
          ]
        }
      ]
    },
    {
      "cell_type": "code",
      "source": [
        "import numpy as np\n",
        "import pickle #used to store tokenizer value in binary format\n",
        "\n",
        "import tensorflow as tf\n",
        "\n",
        "from tensorflow.keras.preprocessing.text import Tokenizer\n",
        "# tokenization-a process that involves breaking down a piece of text into individual words or tokens.\n",
        "\n",
        "from tensorflow.keras.preprocessing.sequence import pad_sequences\n",
        "'''\n",
        "This function is utilized to pad sequences, ensuring that all sequences have the same length.\n",
        "In the context of natural language processing (NLP) and sequence-based models,\n",
        "this is often done to make input sequences uniform in length, which is a requirement for feeding\n",
        "data into many machine learning models. The function adds padding (usually zeros) to the beginning or end of sequences as needed.\n",
        "'''\n",
        "\n",
        "from tensorflow.keras.models import Sequential\n",
        "'''\n",
        "Sequential is a linear stack of layers that allows you to build a model layer by layer in a step-by-step fashion.\n",
        "'''\n",
        "\n",
        "from tensorflow.keras.layers import Embedding,LSTM,Dense\n",
        "'''\n",
        "The Embedding layer in a neural network is like a translator for words. It takes each word and turns it into a unique set of numbers\n",
        "creating a way for the computer to understand and work with words. This is especially useful in tasks like\n",
        "understanding relationships between words and solving language-related problems in things like text analysis or translation.\n",
        "'''"
      ],
      "metadata": {
        "id": "KQLYB0eWwmFm"
      },
      "execution_count": null,
      "outputs": []
    },
    {
      "cell_type": "code",
      "source": [
        "#read text file\n",
        "with open('IndiaUS.txt','r',encoding='utf-8') as myfile:\n",
        "  mytext=myfile.read()"
      ],
      "metadata": {
        "id": "Udq_G1GqyQIQ"
      },
      "execution_count": null,
      "outputs": []
    },
    {
      "cell_type": "code",
      "source": [
        "print(mytext)"
      ],
      "metadata": {
        "colab": {
          "base_uri": "https://localhost:8080/"
        },
        "id": "I2u_eUD9ykr0",
        "outputId": "7b00f044-f7c5-4012-876f-45504814d31c"
      },
      "execution_count": null,
      "outputs": [
        {
          "output_type": "stream",
          "name": "stdout",
          "text": [
            "Following a lavish state visit by Indian Prime Minister Narendra Modi to Washington, US President Joe Biden has called his country's partnership with India among the \"most consequential in the world\". The BBC's Vikas Pandey and Soutik Biswas explore the factors that contribute to the visit's potential in strengthening the ties between the two nations.\n",
            "\n",
            "The US's relationship with India - the world's most populous country - is \"stronger, closer and more dynamic than any time in history\", Mr Biden said at the completion of a pomp-filled state visit by Mr Modi to the White House.\n",
            "\n",
            "The remark may not be an exaggeration. \"This summit suggests that the relationship has been transformed. It underscores just how broad and deep it has become in a relatively short time,\" says Michael Kugelman of The Wilson Center, an American think-tank.\n",
            "\n",
            "A key reason is that Washington is keen to draw India closer so that it can act as a counterbalance to China's growing influence in the Indo-Pacific. India-US ties had not lived up to their promise following a landmark civilian nuclear deal in 2005 because a liability law passed by India three years later hobbled purchase of reactors.\n",
            "\n",
            "\"This followed a fading commitment to the relationship during [former prime minister] Manmohan Singh's second term as the leader of a coalition government. With Mr Modi there has been a lot more enthusiasm about embracing the US. Mr Biden has also given an overall broad directive to make it work,\" says Seema Sirohi, author of Friends With Benefits: The India-US Story.\n",
            "\n",
            "Ms Sirohi says the US put in a \"lot of effort to make Mr Modi's visit substantive and have a lot of deliverables\". Defence-industrial cooperation and technology topped the list. Consider this:\n",
            "\n",
            "General Electric and India's state-owned Hindustan Aeronautics Limited will make in India advanced fighter jet engines for the country's indigenous light combat aircraft. This means a \"greater transfer of US jet engine technology than ever before\" - a clear sign that Washington not only wants to sell arms to India but is also comfortable with sharing military technology.\n",
            "India will proceed with a $3bn purchase of the battle-tested MQ-9B Predator drones from General Atomics, which will also set up a facility in India. The drones will be assembled in India, which fits into Mr Modi's 'Make in India' campaign. The US supplies only 11% of India's arms - Russia is the biggest (45%) supplier - but hopes to become the primary provider in the coming years. Mr Kugelman says Washington's immediate goal is to \"strengthen India's military capacity to counter China\".\n",
            "Mr Modi wants to make India a semiconductor base. US memory chip giant Micron Technology will invest up to $825m to build a semiconductor assembly and test facility in India, creating thousands of jobs.\n",
            "US semiconductor equipment maker Lam Research will train 60,000 Indian engineers through a network of interconnected labs and research centres to speed up India's semiconductor education and workforce development. Also Applied Materials, the biggest maker of machines for producing semiconductors, will invest $400m to establish an engineering centre in India.\n",
            "\"It is all about the future now. Both sides are talking about cutting-edge technologies and how to seed and shape the future,\" says Ms Sirohi.\n",
            "\n",
            ": U.S. President Joe Biden and first lady Jill Biden welcome India Prime Minister Narendra Modi to the White House on June 21, 2023 in Washington, DC\n",
            "Mr Biden and Mrs Biden welcome Mr Modi to the White House\n",
            "The India-US relationship has seen many ups and downs since the US seriously began courting India - first under President Bill Clinton and then under the George Bush administration. The response from India was measured, never overeager or too forthcoming.\n",
            "\n",
            "The reason was the way India saw geopolitics and its own place in the global order. The strategy of nonalignment, started by India's first prime minister Jawaharlal Nehru, has always been deeply rooted into India's foreign policy.\n",
            "\n",
            "India never wanted to be seen in one camp or the other, or to be seen as junior strategic partner to a global superpower. Mr Modi has not left the ideals of what some describe as \"strategic altruism\" in Indian foreign policy.\n",
            "\n",
            "But Mr Modi is leading a different kind of India, one which has considerably more economic and geopolitical heft. He has owned the India-US relations - he formed close bonds with former presidents Barack Obama and Donald Trump and now with Mr Biden.\n",
            "\n",
            "But India's \"strategic autonomy\" has not been sacrificed. Washington would have wanted India to go a step further on Russia and probably take a harder public stand on China.\n",
            "\n",
            "But the Biden administration didn't seem disappointed as Mr Modi repeated his line that \"this was not the era of war\" without mentioning Russia. The Indian prime minister did speak about the importance of beefing up humanitarian assistance to Ukraine. He didn't mention China by name either but did talk about the importance of a free and prosperous Indo-Pacific.\n",
            "\n",
            "This is how far Mr Modi could have pushed his administration's policy without compromising on strategic autonomy. It may not have been the ideal way for Washington but it didn't come in the way of making Mr Modi's visit a success.\n",
            "\n",
            "The United States Air Force (USAF) and Indian Air Force (IAF) personnel are posing in front of a United States Air Force (USAF) F-15 Eagle fighter jet during the joint 'Exercise Cope India 2023' at the air force station in Kalaikunda, around 170 km west of Kolkata, on April 24th, 2023. \n",
            "US and Indian air force personnel pose in front of a US fighter jet during a joint exercise in India in April\n",
            "\"The two militaries are working more closely together. They now have arrangements in place where they could use each other's facilities for refuelling and maintenance purposes. They are holding joint exercises and they're sharing a lot more intelligence. Credit to Mr Modi for managing to really test the limits of strategic autonomy. In the sense that he is getting about as close as you can to a major power without signing on to a full-fledged alliance,\" Mr Kugelman says.\n",
            "\n",
            "India and the US have had major trade differences in recent years over tariffs. Trade relations particularly suffered during the Trump administration.\n",
            "\n",
            "The two sides were not expected to announce anything major in trade as it was understood that the discussions over that could continue later without overshadowing the visit.\n",
            "\n",
            "But surprisingly, the two sides announced that six separate trade disputes at the World Trade Organization were resolved, including one that involved tariffs.\n",
            "\n",
            "The US is now India's top trading partner at $130bn in goods and Delhi is Washington's eighth largest partner. While these numbers are impressive, analysts and policymakers feel there is a huge untapped potential. India is also a burgeoning market with an expanding middle class and it's been positioning itself as an alternative to China to become a manufacturing hub for the world.\n",
            "\n",
            "President Joe Biden and Indian Prime Minister Narendra Modi participate in an arrival ceremony on the South Lawn of the White House on Thursday, June 22, 2023 in Washington, DC. President Biden is the first U.S. President to invite Prime Minister Modi for an official state visit\n",
            "Some 2.7 million Indians live in the US\n",
            "Many global firms and nations are interested in the proposal as they look to free the global supply chain from China's dominance. In that context, the resolution of trade disputes will give further impetus to unlocking the full potential of India-US trade ties. Mr Modi has said that \"even sky is not the limit (for India-US) ties\".\n",
            "\n",
            "Critics in Washington have questioned India's \"democratic backsliding\" under Mr Modi and his Hindu nationalist Bharatiya Janata Party (BJP). Mr Obama, in a television interview this week, emphasised the significance of addressing the \"protection of the Muslim minority in a predominantly Hindu India\" during discussions between Mr Biden and Mr Modi. \"The progressives in the Democratic Party are disturbed by what is happening in India. The realists and centrists are all for strengthening the relationship because of the China factor,\" says Ms Sirohi.\n",
            "\n",
            "But on the whole, there is a bipartisan agreement to make the relationship deeper and broader. \"The India-US strategic partnership has certainly moved to the next level. It's one of mutual need and mutual benefit,\" says Ms Sirohi.\n"
          ]
        }
      ]
    },
    {
      "cell_type": "code",
      "source": [
        "mytokenizer=Tokenizer()\n",
        "# Tokenization is a common preprocessing step in machine learning models that work with text data."
      ],
      "metadata": {
        "id": "fZmdGEWTzUqL"
      },
      "execution_count": null,
      "outputs": []
    },
    {
      "cell_type": "code",
      "source": [
        "mytokenizer.fit_on_texts([mytext])\n",
        "total_words=len(mytokenizer.word_index)+1  #we add one as out of vocabulary token\n",
        "total_words"
      ],
      "metadata": {
        "colab": {
          "base_uri": "https://localhost:8080/"
        },
        "id": "QFtyWNS3zbxb",
        "outputId": "a40dcdbd-67ae-46ae-9546-228a28c61b99"
      },
      "execution_count": null,
      "outputs": [
        {
          "output_type": "execute_result",
          "data": {
            "text/plain": [
              "599"
            ]
          },
          "metadata": {},
          "execution_count": 6
        }
      ]
    },
    {
      "cell_type": "code",
      "source": [
        "mytokenizer.word_index"
      ],
      "metadata": {
        "colab": {
          "base_uri": "https://localhost:8080/"
        },
        "id": "LDQPOdw8zv8g",
        "outputId": "eef7c585-bb3c-42d6-ab05-445da2a6e36d"
      },
      "execution_count": null,
      "outputs": [
        {
          "output_type": "execute_result",
          "data": {
            "text/plain": [
              "{'the': 1,\n",
              " 'to': 2,\n",
              " 'in': 3,\n",
              " 'a': 4,\n",
              " 'and': 5,\n",
              " 'india': 6,\n",
              " 'of': 7,\n",
              " 'mr': 8,\n",
              " 'us': 9,\n",
              " 'is': 10,\n",
              " 'modi': 11,\n",
              " 'has': 12,\n",
              " 'that': 13,\n",
              " 'biden': 14,\n",
              " 'as': 15,\n",
              " 'with': 16,\n",
              " 'not': 17,\n",
              " \"india's\": 18,\n",
              " 'for': 19,\n",
              " 'but': 20,\n",
              " 'on': 21,\n",
              " 'washington': 22,\n",
              " 'an': 23,\n",
              " 'it': 24,\n",
              " 'says': 25,\n",
              " 'will': 26,\n",
              " 'are': 27,\n",
              " 'indian': 28,\n",
              " 'prime': 29,\n",
              " 'minister': 30,\n",
              " 'this': 31,\n",
              " 'have': 32,\n",
              " 'trade': 33,\n",
              " 'visit': 34,\n",
              " 'by': 35,\n",
              " 'president': 36,\n",
              " 'relationship': 37,\n",
              " 'been': 38,\n",
              " 'about': 39,\n",
              " 'strategic': 40,\n",
              " 'more': 41,\n",
              " 'up': 42,\n",
              " 'during': 43,\n",
              " 'also': 44,\n",
              " 'make': 45,\n",
              " 'sirohi': 46,\n",
              " 'china': 47,\n",
              " 'air': 48,\n",
              " 'force': 49,\n",
              " 'state': 50,\n",
              " 'his': 51,\n",
              " 'ties': 52,\n",
              " 'two': 53,\n",
              " 'at': 54,\n",
              " 'white': 55,\n",
              " 'house': 56,\n",
              " 'be': 57,\n",
              " 'lot': 58,\n",
              " 'ms': 59,\n",
              " 'technology': 60,\n",
              " 'jet': 61,\n",
              " 'semiconductor': 62,\n",
              " 'now': 63,\n",
              " 'first': 64,\n",
              " 'was': 65,\n",
              " 'global': 66,\n",
              " 'one': 67,\n",
              " 'he': 68,\n",
              " 'without': 69,\n",
              " 'they': 70,\n",
              " 'narendra': 71,\n",
              " 'joe': 72,\n",
              " 'world': 73,\n",
              " 'potential': 74,\n",
              " 'how': 75,\n",
              " 'become': 76,\n",
              " 'kugelman': 77,\n",
              " 'years': 78,\n",
              " 'there': 79,\n",
              " \"modi's\": 80,\n",
              " 'fighter': 81,\n",
              " 'from': 82,\n",
              " 'which': 83,\n",
              " 'russia': 84,\n",
              " 'sides': 85,\n",
              " '2023': 86,\n",
              " 'seen': 87,\n",
              " 'under': 88,\n",
              " 'administration': 89,\n",
              " 'or': 90,\n",
              " 'way': 91,\n",
              " 'policy': 92,\n",
              " 'partner': 93,\n",
              " 'autonomy': 94,\n",
              " \"didn't\": 95,\n",
              " 'could': 96,\n",
              " 'joint': 97,\n",
              " 'major': 98,\n",
              " 'following': 99,\n",
              " \"country's\": 100,\n",
              " 'partnership': 101,\n",
              " 'most': 102,\n",
              " 'strengthening': 103,\n",
              " 'between': 104,\n",
              " 'nations': 105,\n",
              " 'closer': 106,\n",
              " 'than': 107,\n",
              " 'time': 108,\n",
              " 'said': 109,\n",
              " 'may': 110,\n",
              " 'broad': 111,\n",
              " 'reason': 112,\n",
              " 'can': 113,\n",
              " \"china's\": 114,\n",
              " 'indo': 115,\n",
              " 'pacific': 116,\n",
              " 'had': 117,\n",
              " 'because': 118,\n",
              " 'later': 119,\n",
              " 'purchase': 120,\n",
              " 'former': 121,\n",
              " 'general': 122,\n",
              " 'owned': 123,\n",
              " 'only': 124,\n",
              " 'wants': 125,\n",
              " 'arms': 126,\n",
              " 'sharing': 127,\n",
              " 'military': 128,\n",
              " 'drones': 129,\n",
              " 'facility': 130,\n",
              " 'into': 131,\n",
              " 'biggest': 132,\n",
              " \"washington's\": 133,\n",
              " 'invest': 134,\n",
              " 'test': 135,\n",
              " 'maker': 136,\n",
              " 'research': 137,\n",
              " 'all': 138,\n",
              " 'future': 139,\n",
              " 'u': 140,\n",
              " 's': 141,\n",
              " 'welcome': 142,\n",
              " 'june': 143,\n",
              " 'dc': 144,\n",
              " 'many': 145,\n",
              " 'never': 146,\n",
              " 'place': 147,\n",
              " 'foreign': 148,\n",
              " 'wanted': 149,\n",
              " 'what': 150,\n",
              " 'some': 151,\n",
              " 'relations': 152,\n",
              " 'close': 153,\n",
              " 'obama': 154,\n",
              " 'trump': 155,\n",
              " 'further': 156,\n",
              " 'did': 157,\n",
              " 'importance': 158,\n",
              " 'free': 159,\n",
              " 'united': 160,\n",
              " 'states': 161,\n",
              " 'usaf': 162,\n",
              " 'personnel': 163,\n",
              " 'front': 164,\n",
              " 'april': 165,\n",
              " 'full': 166,\n",
              " 'over': 167,\n",
              " 'tariffs': 168,\n",
              " 'were': 169,\n",
              " 'discussions': 170,\n",
              " 'disputes': 171,\n",
              " \"it's\": 172,\n",
              " 'democratic': 173,\n",
              " 'hindu': 174,\n",
              " 'party': 175,\n",
              " 'mutual': 176,\n",
              " 'lavish': 177,\n",
              " 'called': 178,\n",
              " 'among': 179,\n",
              " 'consequential': 180,\n",
              " \"bbc's\": 181,\n",
              " 'vikas': 182,\n",
              " 'pandey': 183,\n",
              " 'soutik': 184,\n",
              " 'biswas': 185,\n",
              " 'explore': 186,\n",
              " 'factors': 187,\n",
              " 'contribute': 188,\n",
              " \"visit's\": 189,\n",
              " \"us's\": 190,\n",
              " \"world's\": 191,\n",
              " 'populous': 192,\n",
              " 'country': 193,\n",
              " 'stronger': 194,\n",
              " 'dynamic': 195,\n",
              " 'any': 196,\n",
              " 'history': 197,\n",
              " 'completion': 198,\n",
              " 'pomp': 199,\n",
              " 'filled': 200,\n",
              " 'remark': 201,\n",
              " 'exaggeration': 202,\n",
              " 'summit': 203,\n",
              " 'suggests': 204,\n",
              " 'transformed': 205,\n",
              " 'underscores': 206,\n",
              " 'just': 207,\n",
              " 'deep': 208,\n",
              " 'relatively': 209,\n",
              " 'short': 210,\n",
              " 'michael': 211,\n",
              " 'wilson': 212,\n",
              " 'center': 213,\n",
              " 'american': 214,\n",
              " 'think': 215,\n",
              " 'tank': 216,\n",
              " 'key': 217,\n",
              " 'keen': 218,\n",
              " 'draw': 219,\n",
              " 'so': 220,\n",
              " 'act': 221,\n",
              " 'counterbalance': 222,\n",
              " 'growing': 223,\n",
              " 'influence': 224,\n",
              " 'lived': 225,\n",
              " 'their': 226,\n",
              " 'promise': 227,\n",
              " 'landmark': 228,\n",
              " 'civilian': 229,\n",
              " 'nuclear': 230,\n",
              " 'deal': 231,\n",
              " '2005': 232,\n",
              " 'liability': 233,\n",
              " 'law': 234,\n",
              " 'passed': 235,\n",
              " 'three': 236,\n",
              " 'hobbled': 237,\n",
              " 'reactors': 238,\n",
              " 'followed': 239,\n",
              " 'fading': 240,\n",
              " 'commitment': 241,\n",
              " 'manmohan': 242,\n",
              " \"singh's\": 243,\n",
              " 'second': 244,\n",
              " 'term': 245,\n",
              " 'leader': 246,\n",
              " 'coalition': 247,\n",
              " 'government': 248,\n",
              " 'enthusiasm': 249,\n",
              " 'embracing': 250,\n",
              " 'given': 251,\n",
              " 'overall': 252,\n",
              " 'directive': 253,\n",
              " 'work': 254,\n",
              " 'seema': 255,\n",
              " 'author': 256,\n",
              " 'friends': 257,\n",
              " 'benefits': 258,\n",
              " 'story': 259,\n",
              " 'put': 260,\n",
              " 'effort': 261,\n",
              " 'substantive': 262,\n",
              " 'deliverables': 263,\n",
              " 'defence': 264,\n",
              " 'industrial': 265,\n",
              " 'cooperation': 266,\n",
              " 'topped': 267,\n",
              " 'list': 268,\n",
              " 'consider': 269,\n",
              " 'electric': 270,\n",
              " 'hindustan': 271,\n",
              " 'aeronautics': 272,\n",
              " 'limited': 273,\n",
              " 'advanced': 274,\n",
              " 'engines': 275,\n",
              " 'indigenous': 276,\n",
              " 'light': 277,\n",
              " 'combat': 278,\n",
              " 'aircraft': 279,\n",
              " 'means': 280,\n",
              " 'greater': 281,\n",
              " 'transfer': 282,\n",
              " 'engine': 283,\n",
              " 'ever': 284,\n",
              " 'before': 285,\n",
              " 'clear': 286,\n",
              " 'sign': 287,\n",
              " 'sell': 288,\n",
              " 'comfortable': 289,\n",
              " 'proceed': 290,\n",
              " '3bn': 291,\n",
              " 'battle': 292,\n",
              " 'tested': 293,\n",
              " 'mq': 294,\n",
              " '9b': 295,\n",
              " 'predator': 296,\n",
              " 'atomics': 297,\n",
              " 'set': 298,\n",
              " 'assembled': 299,\n",
              " 'fits': 300,\n",
              " \"'make\": 301,\n",
              " \"india'\": 302,\n",
              " 'campaign': 303,\n",
              " 'supplies': 304,\n",
              " '11': 305,\n",
              " '45': 306,\n",
              " 'supplier': 307,\n",
              " 'hopes': 308,\n",
              " 'primary': 309,\n",
              " 'provider': 310,\n",
              " 'coming': 311,\n",
              " 'immediate': 312,\n",
              " 'goal': 313,\n",
              " 'strengthen': 314,\n",
              " 'capacity': 315,\n",
              " 'counter': 316,\n",
              " 'base': 317,\n",
              " 'memory': 318,\n",
              " 'chip': 319,\n",
              " 'giant': 320,\n",
              " 'micron': 321,\n",
              " '825m': 322,\n",
              " 'build': 323,\n",
              " 'assembly': 324,\n",
              " 'creating': 325,\n",
              " 'thousands': 326,\n",
              " 'jobs': 327,\n",
              " 'equipment': 328,\n",
              " 'lam': 329,\n",
              " 'train': 330,\n",
              " '60': 331,\n",
              " '000': 332,\n",
              " 'engineers': 333,\n",
              " 'through': 334,\n",
              " 'network': 335,\n",
              " 'interconnected': 336,\n",
              " 'labs': 337,\n",
              " 'centres': 338,\n",
              " 'speed': 339,\n",
              " 'education': 340,\n",
              " 'workforce': 341,\n",
              " 'development': 342,\n",
              " 'applied': 343,\n",
              " 'materials': 344,\n",
              " 'machines': 345,\n",
              " 'producing': 346,\n",
              " 'semiconductors': 347,\n",
              " '400m': 348,\n",
              " 'establish': 349,\n",
              " 'engineering': 350,\n",
              " 'centre': 351,\n",
              " 'both': 352,\n",
              " 'talking': 353,\n",
              " 'cutting': 354,\n",
              " 'edge': 355,\n",
              " 'technologies': 356,\n",
              " 'seed': 357,\n",
              " 'shape': 358,\n",
              " 'lady': 359,\n",
              " 'jill': 360,\n",
              " '21': 361,\n",
              " 'mrs': 362,\n",
              " 'ups': 363,\n",
              " 'downs': 364,\n",
              " 'since': 365,\n",
              " 'seriously': 366,\n",
              " 'began': 367,\n",
              " 'courting': 368,\n",
              " 'bill': 369,\n",
              " 'clinton': 370,\n",
              " 'then': 371,\n",
              " 'george': 372,\n",
              " 'bush': 373,\n",
              " 'response': 374,\n",
              " 'measured': 375,\n",
              " 'overeager': 376,\n",
              " 'too': 377,\n",
              " 'forthcoming': 378,\n",
              " 'saw': 379,\n",
              " 'geopolitics': 380,\n",
              " 'its': 381,\n",
              " 'own': 382,\n",
              " 'order': 383,\n",
              " 'strategy': 384,\n",
              " 'nonalignment': 385,\n",
              " 'started': 386,\n",
              " 'jawaharlal': 387,\n",
              " 'nehru': 388,\n",
              " 'always': 389,\n",
              " 'deeply': 390,\n",
              " 'rooted': 391,\n",
              " 'camp': 392,\n",
              " 'other': 393,\n",
              " 'junior': 394,\n",
              " 'superpower': 395,\n",
              " 'left': 396,\n",
              " 'ideals': 397,\n",
              " 'describe': 398,\n",
              " 'altruism': 399,\n",
              " 'leading': 400,\n",
              " 'different': 401,\n",
              " 'kind': 402,\n",
              " 'considerably': 403,\n",
              " 'economic': 404,\n",
              " 'geopolitical': 405,\n",
              " 'heft': 406,\n",
              " 'formed': 407,\n",
              " 'bonds': 408,\n",
              " 'presidents': 409,\n",
              " 'barack': 410,\n",
              " 'donald': 411,\n",
              " 'sacrificed': 412,\n",
              " 'would': 413,\n",
              " 'go': 414,\n",
              " 'step': 415,\n",
              " 'probably': 416,\n",
              " 'take': 417,\n",
              " 'harder': 418,\n",
              " 'public': 419,\n",
              " 'stand': 420,\n",
              " 'seem': 421,\n",
              " 'disappointed': 422,\n",
              " 'repeated': 423,\n",
              " 'line': 424,\n",
              " 'era': 425,\n",
              " 'war': 426,\n",
              " 'mentioning': 427,\n",
              " 'speak': 428,\n",
              " 'beefing': 429,\n",
              " 'humanitarian': 430,\n",
              " 'assistance': 431,\n",
              " 'ukraine': 432,\n",
              " 'mention': 433,\n",
              " 'name': 434,\n",
              " 'either': 435,\n",
              " 'talk': 436,\n",
              " 'prosperous': 437,\n",
              " 'far': 438,\n",
              " 'pushed': 439,\n",
              " \"administration's\": 440,\n",
              " 'compromising': 441,\n",
              " 'ideal': 442,\n",
              " 'come': 443,\n",
              " 'making': 444,\n",
              " 'success': 445,\n",
              " 'iaf': 446,\n",
              " 'posing': 447,\n",
              " 'f': 448,\n",
              " '15': 449,\n",
              " 'eagle': 450,\n",
              " \"'exercise\": 451,\n",
              " 'cope': 452,\n",
              " \"2023'\": 453,\n",
              " 'station': 454,\n",
              " 'kalaikunda': 455,\n",
              " 'around': 456,\n",
              " '170': 457,\n",
              " 'km': 458,\n",
              " 'west': 459,\n",
              " 'kolkata': 460,\n",
              " '24th': 461,\n",
              " 'pose': 462,\n",
              " 'exercise': 463,\n",
              " 'militaries': 464,\n",
              " 'working': 465,\n",
              " 'closely': 466,\n",
              " 'together': 467,\n",
              " 'arrangements': 468,\n",
              " 'where': 469,\n",
              " 'use': 470,\n",
              " 'each': 471,\n",
              " \"other's\": 472,\n",
              " 'facilities': 473,\n",
              " 'refuelling': 474,\n",
              " 'maintenance': 475,\n",
              " 'purposes': 476,\n",
              " 'holding': 477,\n",
              " 'exercises': 478,\n",
              " \"they're\": 479,\n",
              " 'intelligence': 480,\n",
              " 'credit': 481,\n",
              " 'managing': 482,\n",
              " 'really': 483,\n",
              " 'limits': 484,\n",
              " 'sense': 485,\n",
              " 'getting': 486,\n",
              " 'you': 487,\n",
              " 'power': 488,\n",
              " 'signing': 489,\n",
              " 'fledged': 490,\n",
              " 'alliance': 491,\n",
              " 'differences': 492,\n",
              " 'recent': 493,\n",
              " 'particularly': 494,\n",
              " 'suffered': 495,\n",
              " 'expected': 496,\n",
              " 'announce': 497,\n",
              " 'anything': 498,\n",
              " 'understood': 499,\n",
              " 'continue': 500,\n",
              " 'overshadowing': 501,\n",
              " 'surprisingly': 502,\n",
              " 'announced': 503,\n",
              " 'six': 504,\n",
              " 'separate': 505,\n",
              " 'organization': 506,\n",
              " 'resolved': 507,\n",
              " 'including': 508,\n",
              " 'involved': 509,\n",
              " 'top': 510,\n",
              " 'trading': 511,\n",
              " '130bn': 512,\n",
              " 'goods': 513,\n",
              " 'delhi': 514,\n",
              " 'eighth': 515,\n",
              " 'largest': 516,\n",
              " 'while': 517,\n",
              " 'these': 518,\n",
              " 'numbers': 519,\n",
              " 'impressive': 520,\n",
              " 'analysts': 521,\n",
              " 'policymakers': 522,\n",
              " 'feel': 523,\n",
              " 'huge': 524,\n",
              " 'untapped': 525,\n",
              " 'burgeoning': 526,\n",
              " 'market': 527,\n",
              " 'expanding': 528,\n",
              " 'middle': 529,\n",
              " 'class': 530,\n",
              " 'positioning': 531,\n",
              " 'itself': 532,\n",
              " 'alternative': 533,\n",
              " 'manufacturing': 534,\n",
              " 'hub': 535,\n",
              " 'participate': 536,\n",
              " 'arrival': 537,\n",
              " 'ceremony': 538,\n",
              " 'south': 539,\n",
              " 'lawn': 540,\n",
              " 'thursday': 541,\n",
              " '22': 542,\n",
              " 'invite': 543,\n",
              " 'official': 544,\n",
              " '2': 545,\n",
              " '7': 546,\n",
              " 'million': 547,\n",
              " 'indians': 548,\n",
              " 'live': 549,\n",
              " 'firms': 550,\n",
              " 'interested': 551,\n",
              " 'proposal': 552,\n",
              " 'look': 553,\n",
              " 'supply': 554,\n",
              " 'chain': 555,\n",
              " 'dominance': 556,\n",
              " 'context': 557,\n",
              " 'resolution': 558,\n",
              " 'give': 559,\n",
              " 'impetus': 560,\n",
              " 'unlocking': 561,\n",
              " 'even': 562,\n",
              " 'sky': 563,\n",
              " 'limit': 564,\n",
              " 'critics': 565,\n",
              " 'questioned': 566,\n",
              " 'backsliding': 567,\n",
              " 'nationalist': 568,\n",
              " 'bharatiya': 569,\n",
              " 'janata': 570,\n",
              " 'bjp': 571,\n",
              " 'television': 572,\n",
              " 'interview': 573,\n",
              " 'week': 574,\n",
              " 'emphasised': 575,\n",
              " 'significance': 576,\n",
              " 'addressing': 577,\n",
              " 'protection': 578,\n",
              " 'muslim': 579,\n",
              " 'minority': 580,\n",
              " 'predominantly': 581,\n",
              " 'progressives': 582,\n",
              " 'disturbed': 583,\n",
              " 'happening': 584,\n",
              " 'realists': 585,\n",
              " 'centrists': 586,\n",
              " 'factor': 587,\n",
              " 'whole': 588,\n",
              " 'bipartisan': 589,\n",
              " 'agreement': 590,\n",
              " 'deeper': 591,\n",
              " 'broader': 592,\n",
              " 'certainly': 593,\n",
              " 'moved': 594,\n",
              " 'next': 595,\n",
              " 'level': 596,\n",
              " 'need': 597,\n",
              " 'benefit': 598}"
            ]
          },
          "metadata": {},
          "execution_count": 7
        }
      ]
    },
    {
      "cell_type": "code",
      "source": [
        "#save as pickle format\n",
        "with open('tokenizer.pickle','wb') as handle:\n",
        "  pickle.dump(mytokenizer,handle,protocol=pickle.HIGHEST_PROTOCOL)\n"
      ],
      "metadata": {
        "id": "SQurRSQ2014O"
      },
      "execution_count": null,
      "outputs": []
    },
    {
      "cell_type": "code",
      "source": [
        "!cp '/content/tokenizer.pickle'  '/content/drive/MyDrive/RNN_LSTM'\n",
        "!cp '/content/IndiaUS.txt' '/content/drive/MyDrive/RNN_LSTM'"
      ],
      "metadata": {
        "id": "Qg7mw1WI1qcP"
      },
      "execution_count": null,
      "outputs": []
    },
    {
      "cell_type": "code",
      "source": [
        "my_input_sequences = []\n",
        "for line in mytext.split('\\n'):\n",
        "    token_list = mytokenizer.texts_to_sequences([line])[0]\n",
        "    # print(token_list)\n",
        "    for i in range(1,len(token_list)):\n",
        "      #n_gram sequence\n",
        "      my_ngram_sequence=token_list[:i+1]\n",
        "      my_input_sequences.append(my_ngram_sequence)\n",
        "\n"
      ],
      "metadata": {
        "id": "g5Iqe2XM3nds"
      },
      "execution_count": null,
      "outputs": []
    },
    {
      "cell_type": "code",
      "source": [
        "max_sequence_len = max([len(seq) for seq in my_input_sequences])\n",
        "max_sequence_len"
      ],
      "metadata": {
        "colab": {
          "base_uri": "https://localhost:8080/"
        },
        "id": "JylJaU9432Y2",
        "outputId": "440c7dc8-1aad-4651-f200-bc275d60639b"
      },
      "execution_count": null,
      "outputs": [
        {
          "output_type": "execute_result",
          "data": {
            "text/plain": [
              "83"
            ]
          },
          "metadata": {},
          "execution_count": 11
        }
      ]
    },
    {
      "cell_type": "code",
      "source": [
        "'''\n",
        "padding 2 types post padding and pre padding\n",
        "padding used to make all sentences in same length\n",
        "we got above max sequence len is 83 so we going to make all sentences as the length of max_sequence_len by adding 0 in the empty spaces\n",
        "'''\n",
        "input_sequence=np.array(pad_sequences(my_input_sequences,maxlen=max_sequence_len,padding='pre'))\n",
        "input_sequence"
      ],
      "metadata": {
        "colab": {
          "base_uri": "https://localhost:8080/"
        },
        "id": "UTN5dD7Z9u5n",
        "outputId": "6ead7e38-b271-4ece-9124-2ed42a7c92a0"
      },
      "execution_count": null,
      "outputs": [
        {
          "output_type": "execute_result",
          "data": {
            "text/plain": [
              "array([[  0,   0,   0, ...,   0,  99,   4],\n",
              "       [  0,   0,   0, ...,  99,   4, 177],\n",
              "       [  0,   0,   0, ...,   4, 177,  50],\n",
              "       ...,\n",
              "       [  0,   0,   0, ..., 176, 598,  25],\n",
              "       [  0,   0,   0, ..., 598,  25,  59],\n",
              "       [  0,   0,   0, ...,  25,  59,  46]], dtype=int32)"
            ]
          },
          "metadata": {},
          "execution_count": 12
        }
      ]
    },
    {
      "cell_type": "code",
      "source": [
        "x=input_sequence[:,:-1]\n",
        "y=input_sequence[:,-1]"
      ],
      "metadata": {
        "id": "vpfYPW-bc59l"
      },
      "execution_count": null,
      "outputs": []
    },
    {
      "cell_type": "code",
      "source": [
        "x"
      ],
      "metadata": {
        "colab": {
          "base_uri": "https://localhost:8080/"
        },
        "id": "F8es0sdEdoq9",
        "outputId": "8b4fab6f-ec2e-47df-8732-9444f00c7b8b"
      },
      "execution_count": null,
      "outputs": [
        {
          "output_type": "execute_result",
          "data": {
            "text/plain": [
              "array([[  0,   0,   0, ...,   0,   0,  99],\n",
              "       [  0,   0,   0, ...,   0,  99,   4],\n",
              "       [  0,   0,   0, ...,  99,   4, 177],\n",
              "       ...,\n",
              "       [  0,   0,   0, ...,   5, 176, 598],\n",
              "       [  0,   0,   0, ..., 176, 598,  25],\n",
              "       [  0,   0,   0, ..., 598,  25,  59]], dtype=int32)"
            ]
          },
          "metadata": {},
          "execution_count": 14
        }
      ]
    },
    {
      "cell_type": "code",
      "source": [
        "y"
      ],
      "metadata": {
        "colab": {
          "base_uri": "https://localhost:8080/"
        },
        "id": "hXr45lIRdr-N",
        "outputId": "32fe8fb7-cbed-4a58-e6f4-109b71678160"
      },
      "execution_count": null,
      "outputs": [
        {
          "output_type": "execute_result",
          "data": {
            "text/plain": [
              "array([  4, 177,  50, ...,  25,  59,  46], dtype=int32)"
            ]
          },
          "metadata": {},
          "execution_count": 15
        }
      ]
    },
    {
      "cell_type": "code",
      "source": [
        "# y convert to binary vectors using one hot encoding\n",
        "y=np.array(tf.keras.utils.to_categorical(y,num_classes=total_words))"
      ],
      "metadata": {
        "id": "7nRukWhudrxS"
      },
      "execution_count": null,
      "outputs": []
    },
    {
      "cell_type": "code",
      "source": [
        "y"
      ],
      "metadata": {
        "colab": {
          "base_uri": "https://localhost:8080/"
        },
        "id": "gdfrWm7ugrH-",
        "outputId": "cd973f14-aefa-4ddb-8c27-dcf9e962b400"
      },
      "execution_count": null,
      "outputs": [
        {
          "output_type": "execute_result",
          "data": {
            "text/plain": [
              "array([[0., 0., 0., ..., 0., 0., 0.],\n",
              "       [0., 0., 0., ..., 0., 0., 0.],\n",
              "       [0., 0., 0., ..., 0., 0., 0.],\n",
              "       ...,\n",
              "       [0., 0., 0., ..., 0., 0., 0.],\n",
              "       [0., 0., 0., ..., 0., 0., 0.],\n",
              "       [0., 0., 0., ..., 0., 0., 0.]], dtype=float32)"
            ]
          },
          "metadata": {},
          "execution_count": 17
        }
      ]
    },
    {
      "cell_type": "code",
      "source": [
        "'''\n",
        "ARCHITECHTURE BUILDING\n",
        "'''\n",
        "model=Sequential()\n",
        "\n",
        "'''\n",
        "1.Embedding layer\n",
        "'''\n",
        "#input_dim=total no of unique words,size of input(higher dimensionality space)\n",
        "#output_dim=lower dimensionality  that we need to map\n",
        "#input_length=max sequence length excluding y\n",
        "\n",
        "                                          #output_dim is a hyperparameter ,we can change it based on the performance\n",
        "model.add(Embedding(input_dim=total_words,output_dim=100,input_length=max_sequence_len-1)) #embedding layer\n",
        "\n",
        "'''\n",
        "2.LSTM layer\n",
        "'''\n",
        "model.add(LSTM(150)) #no of nodes in lstm is  a hyperparameter we can increase or decrease this as per the choice\n",
        "                    #lstm hidden layer must be greater than output dim\n",
        "'''\n",
        "3.Dense layer\n",
        "'''\n",
        "model.add(Dense(total_words,activation='softmax'))\n"
      ],
      "metadata": {
        "id": "lUE_IVCCgy4U"
      },
      "execution_count": null,
      "outputs": []
    },
    {
      "cell_type": "code",
      "source": [
        "'''\n",
        "COMPILING\n",
        "'''\n",
        "model.compile(loss='categorical_crossentropy',optimizer='adam',metrics=['accuracy'])"
      ],
      "metadata": {
        "id": "Q2nEZXDBlG6M"
      },
      "execution_count": null,
      "outputs": []
    },
    {
      "cell_type": "code",
      "source": [
        "model.fit(x,y,epochs=100,verbose=1)"
      ],
      "metadata": {
        "colab": {
          "base_uri": "https://localhost:8080/"
        },
        "id": "G8satb8JmgIH",
        "outputId": "5fcc31fb-fe64-4f7f-d475-7b3d8d7bb8a9"
      },
      "execution_count": null,
      "outputs": [
        {
          "output_type": "stream",
          "name": "stdout",
          "text": [
            "Epoch 1/100\n",
            "43/43 [==============================] - 15s 164ms/step - loss: 6.1761 - accuracy: 0.0489\n",
            "Epoch 2/100\n",
            "43/43 [==============================] - 5s 115ms/step - loss: 5.8095 - accuracy: 0.0576\n",
            "Epoch 3/100\n",
            "43/43 [==============================] - 4s 106ms/step - loss: 5.7244 - accuracy: 0.0576\n",
            "Epoch 4/100\n",
            "43/43 [==============================] - 2s 54ms/step - loss: 5.6692 - accuracy: 0.0576\n",
            "Epoch 5/100\n",
            "43/43 [==============================] - 2s 37ms/step - loss: 5.5798 - accuracy: 0.0576\n",
            "Epoch 6/100\n",
            "43/43 [==============================] - 1s 35ms/step - loss: 5.4699 - accuracy: 0.0591\n",
            "Epoch 7/100\n",
            "43/43 [==============================] - 1s 35ms/step - loss: 5.3335 - accuracy: 0.0737\n",
            "Epoch 8/100\n",
            "43/43 [==============================] - 1s 22ms/step - loss: 5.1531 - accuracy: 0.0802\n",
            "Epoch 9/100\n",
            "43/43 [==============================] - 1s 17ms/step - loss: 4.9281 - accuracy: 0.1094\n",
            "Epoch 10/100\n",
            "43/43 [==============================] - 1s 11ms/step - loss: 4.6989 - accuracy: 0.1298\n",
            "Epoch 11/100\n",
            "43/43 [==============================] - 0s 11ms/step - loss: 4.4586 - accuracy: 0.1488\n",
            "Epoch 12/100\n",
            "43/43 [==============================] - 1s 25ms/step - loss: 4.2198 - accuracy: 0.1772\n",
            "Epoch 13/100\n",
            "43/43 [==============================] - 0s 11ms/step - loss: 3.9904 - accuracy: 0.2013\n",
            "Epoch 14/100\n",
            "43/43 [==============================] - 0s 11ms/step - loss: 3.7665 - accuracy: 0.2195\n",
            "Epoch 15/100\n",
            "43/43 [==============================] - 1s 18ms/step - loss: 3.5455 - accuracy: 0.2604\n",
            "Epoch 16/100\n",
            "43/43 [==============================] - 1s 18ms/step - loss: 3.3227 - accuracy: 0.3027\n",
            "Epoch 17/100\n",
            "43/43 [==============================] - 1s 21ms/step - loss: 3.1186 - accuracy: 0.3370\n",
            "Epoch 18/100\n",
            "43/43 [==============================] - 1s 23ms/step - loss: 2.9102 - accuracy: 0.3851\n",
            "Epoch 19/100\n",
            "43/43 [==============================] - 1s 16ms/step - loss: 2.7137 - accuracy: 0.4362\n",
            "Epoch 20/100\n",
            "43/43 [==============================] - 1s 15ms/step - loss: 2.5207 - accuracy: 0.4945\n",
            "Epoch 21/100\n",
            "43/43 [==============================] - 0s 10ms/step - loss: 2.3399 - accuracy: 0.5522\n",
            "Epoch 22/100\n",
            "43/43 [==============================] - 1s 22ms/step - loss: 2.1687 - accuracy: 0.6047\n",
            "Epoch 23/100\n",
            "43/43 [==============================] - 0s 10ms/step - loss: 2.0004 - accuracy: 0.6528\n",
            "Epoch 24/100\n",
            "43/43 [==============================] - 1s 29ms/step - loss: 1.8337 - accuracy: 0.7061\n",
            "Epoch 25/100\n",
            "43/43 [==============================] - 1s 12ms/step - loss: 1.6796 - accuracy: 0.7520\n",
            "Epoch 26/100\n",
            "43/43 [==============================] - 1s 19ms/step - loss: 1.5418 - accuracy: 0.7892\n",
            "Epoch 27/100\n",
            "43/43 [==============================] - 1s 15ms/step - loss: 1.4058 - accuracy: 0.8220\n",
            "Epoch 28/100\n",
            "43/43 [==============================] - 0s 11ms/step - loss: 1.2878 - accuracy: 0.8497\n",
            "Epoch 29/100\n",
            "43/43 [==============================] - 0s 7ms/step - loss: 1.1748 - accuracy: 0.8731\n",
            "Epoch 30/100\n",
            "43/43 [==============================] - 1s 22ms/step - loss: 1.0706 - accuracy: 0.8891\n",
            "Epoch 31/100\n",
            "43/43 [==============================] - 0s 8ms/step - loss: 0.9784 - accuracy: 0.9008\n",
            "Epoch 32/100\n",
            "43/43 [==============================] - 0s 7ms/step - loss: 0.8922 - accuracy: 0.9168\n",
            "Epoch 33/100\n",
            "43/43 [==============================] - 0s 11ms/step - loss: 0.8162 - accuracy: 0.9285\n",
            "Epoch 34/100\n",
            "43/43 [==============================] - 1s 15ms/step - loss: 0.7461 - accuracy: 0.9365\n",
            "Epoch 35/100\n",
            "43/43 [==============================] - 0s 7ms/step - loss: 0.6821 - accuracy: 0.9489\n",
            "Epoch 36/100\n",
            "43/43 [==============================] - 0s 8ms/step - loss: 0.6278 - accuracy: 0.9584\n",
            "Epoch 37/100\n",
            "43/43 [==============================] - 0s 11ms/step - loss: 0.5753 - accuracy: 0.9599\n",
            "Epoch 38/100\n",
            "43/43 [==============================] - 0s 8ms/step - loss: 0.5298 - accuracy: 0.9657\n",
            "Epoch 39/100\n",
            "43/43 [==============================] - 0s 7ms/step - loss: 0.4870 - accuracy: 0.9694\n",
            "Epoch 40/100\n",
            "43/43 [==============================] - 0s 7ms/step - loss: 0.4498 - accuracy: 0.9730\n",
            "Epoch 41/100\n",
            "43/43 [==============================] - 0s 11ms/step - loss: 0.4170 - accuracy: 0.9716\n",
            "Epoch 42/100\n",
            "43/43 [==============================] - 0s 7ms/step - loss: 0.3857 - accuracy: 0.9767\n",
            "Epoch 43/100\n",
            "43/43 [==============================] - 0s 11ms/step - loss: 0.3605 - accuracy: 0.9796\n",
            "Epoch 44/100\n",
            "43/43 [==============================] - 1s 14ms/step - loss: 0.3336 - accuracy: 0.9796\n",
            "Epoch 45/100\n",
            "43/43 [==============================] - 0s 10ms/step - loss: 0.3123 - accuracy: 0.9803\n",
            "Epoch 46/100\n",
            "43/43 [==============================] - 0s 11ms/step - loss: 0.2919 - accuracy: 0.9810\n",
            "Epoch 47/100\n",
            "43/43 [==============================] - 0s 10ms/step - loss: 0.2724 - accuracy: 0.9810\n",
            "Epoch 48/100\n",
            "43/43 [==============================] - 1s 16ms/step - loss: 0.2557 - accuracy: 0.9854\n",
            "Epoch 49/100\n",
            "43/43 [==============================] - 1s 10ms/step - loss: 0.2391 - accuracy: 0.9854\n",
            "Epoch 50/100\n",
            "43/43 [==============================] - 0s 10ms/step - loss: 0.2266 - accuracy: 0.9840\n",
            "Epoch 51/100\n",
            "43/43 [==============================] - 0s 10ms/step - loss: 0.2128 - accuracy: 0.9840\n",
            "Epoch 52/100\n",
            "43/43 [==============================] - 1s 16ms/step - loss: 0.2007 - accuracy: 0.9847\n",
            "Epoch 53/100\n",
            "43/43 [==============================] - 0s 10ms/step - loss: 0.1908 - accuracy: 0.9854\n",
            "Epoch 54/100\n",
            "43/43 [==============================] - 0s 10ms/step - loss: 0.1811 - accuracy: 0.9825\n",
            "Epoch 55/100\n",
            "43/43 [==============================] - 0s 11ms/step - loss: 0.1713 - accuracy: 0.9847\n",
            "Epoch 56/100\n",
            "43/43 [==============================] - 0s 10ms/step - loss: 0.1634 - accuracy: 0.9854\n",
            "Epoch 57/100\n",
            "43/43 [==============================] - 0s 11ms/step - loss: 0.1554 - accuracy: 0.9840\n",
            "Epoch 58/100\n",
            "43/43 [==============================] - 0s 7ms/step - loss: 0.1485 - accuracy: 0.9840\n",
            "Epoch 59/100\n",
            "43/43 [==============================] - 0s 7ms/step - loss: 0.1421 - accuracy: 0.9861\n",
            "Epoch 60/100\n",
            "43/43 [==============================] - 1s 14ms/step - loss: 0.1349 - accuracy: 0.9876\n",
            "Epoch 61/100\n",
            "43/43 [==============================] - 0s 8ms/step - loss: 0.1288 - accuracy: 0.9847\n",
            "Epoch 62/100\n",
            "43/43 [==============================] - 0s 7ms/step - loss: 0.1247 - accuracy: 0.9854\n",
            "Epoch 63/100\n",
            "43/43 [==============================] - 0s 7ms/step - loss: 0.1197 - accuracy: 0.9847\n",
            "Epoch 64/100\n",
            "43/43 [==============================] - 0s 11ms/step - loss: 0.1160 - accuracy: 0.9847\n",
            "Epoch 65/100\n",
            "43/43 [==============================] - 0s 7ms/step - loss: 0.1108 - accuracy: 0.9832\n",
            "Epoch 66/100\n",
            "43/43 [==============================] - 0s 7ms/step - loss: 0.1064 - accuracy: 0.9854\n",
            "Epoch 67/100\n",
            "43/43 [==============================] - 0s 7ms/step - loss: 0.1032 - accuracy: 0.9861\n",
            "Epoch 68/100\n",
            "43/43 [==============================] - 0s 11ms/step - loss: 0.0988 - accuracy: 0.9832\n",
            "Epoch 69/100\n",
            "43/43 [==============================] - 0s 7ms/step - loss: 0.0959 - accuracy: 0.9861\n",
            "Epoch 70/100\n",
            "43/43 [==============================] - 0s 11ms/step - loss: 0.0927 - accuracy: 0.9854\n",
            "Epoch 71/100\n",
            "43/43 [==============================] - 0s 11ms/step - loss: 0.0903 - accuracy: 0.9861\n",
            "Epoch 72/100\n",
            "43/43 [==============================] - 0s 7ms/step - loss: 0.0882 - accuracy: 0.9854\n",
            "Epoch 73/100\n",
            "43/43 [==============================] - 0s 8ms/step - loss: 0.0858 - accuracy: 0.9840\n",
            "Epoch 74/100\n",
            "43/43 [==============================] - 1s 13ms/step - loss: 0.0827 - accuracy: 0.9854\n",
            "Epoch 75/100\n",
            "43/43 [==============================] - 1s 17ms/step - loss: 0.0800 - accuracy: 0.9847\n",
            "Epoch 76/100\n",
            "43/43 [==============================] - 1s 20ms/step - loss: 0.0790 - accuracy: 0.9854\n",
            "Epoch 77/100\n",
            "43/43 [==============================] - 1s 13ms/step - loss: 0.0762 - accuracy: 0.9861\n",
            "Epoch 78/100\n",
            "43/43 [==============================] - 1s 13ms/step - loss: 0.0745 - accuracy: 0.9854\n",
            "Epoch 79/100\n",
            "43/43 [==============================] - 0s 11ms/step - loss: 0.0717 - accuracy: 0.9869\n",
            "Epoch 80/100\n",
            "43/43 [==============================] - 1s 16ms/step - loss: 0.0705 - accuracy: 0.9869\n",
            "Epoch 81/100\n",
            "43/43 [==============================] - 0s 9ms/step - loss: 0.0692 - accuracy: 0.9861\n",
            "Epoch 82/100\n",
            "43/43 [==============================] - 0s 10ms/step - loss: 0.0670 - accuracy: 0.9876\n",
            "Epoch 83/100\n",
            "43/43 [==============================] - 0s 10ms/step - loss: 0.0668 - accuracy: 0.9840\n",
            "Epoch 84/100\n",
            "43/43 [==============================] - 0s 10ms/step - loss: 0.0650 - accuracy: 0.9861\n",
            "Epoch 85/100\n",
            "43/43 [==============================] - 1s 16ms/step - loss: 0.0630 - accuracy: 0.9854\n",
            "Epoch 86/100\n",
            "43/43 [==============================] - 0s 10ms/step - loss: 0.0628 - accuracy: 0.9869\n",
            "Epoch 87/100\n",
            "43/43 [==============================] - 0s 11ms/step - loss: 0.0603 - accuracy: 0.9847\n",
            "Epoch 88/100\n",
            "43/43 [==============================] - 0s 11ms/step - loss: 0.0586 - accuracy: 0.9854\n",
            "Epoch 89/100\n",
            "43/43 [==============================] - 0s 10ms/step - loss: 0.0587 - accuracy: 0.9854\n",
            "Epoch 90/100\n",
            "43/43 [==============================] - 0s 10ms/step - loss: 0.0570 - accuracy: 0.9861\n",
            "Epoch 91/100\n",
            "43/43 [==============================] - 0s 8ms/step - loss: 0.0567 - accuracy: 0.9861\n",
            "Epoch 92/100\n",
            "43/43 [==============================] - 0s 7ms/step - loss: 0.0553 - accuracy: 0.9869\n",
            "Epoch 93/100\n",
            "43/43 [==============================] - 0s 7ms/step - loss: 0.0548 - accuracy: 0.9861\n",
            "Epoch 94/100\n",
            "43/43 [==============================] - 0s 7ms/step - loss: 0.0541 - accuracy: 0.9854\n",
            "Epoch 95/100\n",
            "43/43 [==============================] - 0s 8ms/step - loss: 0.0532 - accuracy: 0.9861\n",
            "Epoch 96/100\n",
            "43/43 [==============================] - 0s 11ms/step - loss: 0.0528 - accuracy: 0.9854\n",
            "Epoch 97/100\n",
            "43/43 [==============================] - 0s 7ms/step - loss: 0.0516 - accuracy: 0.9861\n",
            "Epoch 98/100\n",
            "43/43 [==============================] - 0s 7ms/step - loss: 0.0500 - accuracy: 0.9854\n",
            "Epoch 99/100\n",
            "43/43 [==============================] - 0s 7ms/step - loss: 0.0499 - accuracy: 0.9869\n",
            "Epoch 100/100\n",
            "43/43 [==============================] - 0s 10ms/step - loss: 0.0488 - accuracy: 0.9854\n"
          ]
        },
        {
          "output_type": "execute_result",
          "data": {
            "text/plain": [
              "<keras.src.callbacks.History at 0x7958fb959d80>"
            ]
          },
          "metadata": {},
          "execution_count": 20
        }
      ]
    },
    {
      "cell_type": "code",
      "source": [
        "model.save('/content/drive/MyDrive/RNN_LSTM/word_prediction.h5')"
      ],
      "metadata": {
        "colab": {
          "base_uri": "https://localhost:8080/"
        },
        "id": "Wv3v17jWnUlt",
        "outputId": "cd69c142-f594-42ba-926d-140bc7d56a9c"
      },
      "execution_count": null,
      "outputs": [
        {
          "output_type": "stream",
          "name": "stderr",
          "text": [
            "/usr/local/lib/python3.10/dist-packages/keras/src/engine/training.py:3079: UserWarning: You are saving your model as an HDF5 file via `model.save()`. This file format is considered legacy. We recommend using instead the native Keras format, e.g. `model.save('my_model.keras')`.\n",
            "  saving_api.save_model(\n"
          ]
        }
      ]
    },
    {
      "cell_type": "markdown",
      "source": [
        "prediction"
      ],
      "metadata": {
        "id": "DOpTFZ-_ohs8"
      }
    },
    {
      "cell_type": "code",
      "source": [
        "import numpy as np\n",
        "import tensorflow as tf\n",
        "from keras.preprocessing.text import Tokenizer\n",
        "from keras.preprocessing.sequence import pad_sequences\n",
        "import pickle"
      ],
      "metadata": {
        "id": "ERa-MlpkoW7H"
      },
      "execution_count": null,
      "outputs": []
    },
    {
      "cell_type": "code",
      "source": [
        "#loading tokenizer file from trained data\n",
        "with open('/content/tokenizer.pickle','rb') as handle:\n",
        "  mytokenizer=pickle.load(handle)\n",
        "\n",
        "model=tf.keras.models.load_model('/content/drive/MyDrive/RNN_LSTM/word_prediction.h5')"
      ],
      "metadata": {
        "id": "5jsZaU-8o_YZ"
      },
      "execution_count": null,
      "outputs": []
    },
    {
      "cell_type": "code",
      "source": [
        "model.input_shape[1]"
      ],
      "metadata": {
        "colab": {
          "base_uri": "https://localhost:8080/"
        },
        "id": "e154V6BBB1yu",
        "outputId": "0f84f900-99a4-44bd-8926-25ad3b1239b6"
      },
      "execution_count": null,
      "outputs": [
        {
          "output_type": "execute_result",
          "data": {
            "text/plain": [
              "82"
            ]
          },
          "metadata": {},
          "execution_count": 26
        }
      ]
    },
    {
      "cell_type": "code",
      "source": [
        "input_text='modi'\n",
        "predict_next_words=5\n",
        "\n",
        "for i in range(predict_next_words):\n",
        "  token_list=mytokenizer.texts_to_sequences([input_text])[0]\n",
        "  token_list=pad_sequences([token_list],maxlen=model.input_shape[1],padding='pre')\n",
        "  predicted=model.predict(token_list)\n",
        "  predicted_index=np.argmax(predicted,axis=1)\n",
        "  output_word=mytokenizer.index_word[predicted_index[0]]\n",
        "  input_text += \" \" + output_word\n",
        "print(input_text)\n"
      ],
      "metadata": {
        "id": "fOOVXJLwqKwp",
        "colab": {
          "base_uri": "https://localhost:8080/"
        },
        "outputId": "b5c52379-cfff-44c9-9f78-78eb1e2457c8"
      },
      "execution_count": null,
      "outputs": [
        {
          "output_type": "stream",
          "name": "stdout",
          "text": [
            "1/1 [==============================] - 0s 19ms/step\n",
            "1/1 [==============================] - 0s 19ms/step\n",
            "1/1 [==============================] - 0s 19ms/step\n",
            "1/1 [==============================] - 0s 21ms/step\n",
            "1/1 [==============================] - 0s 18ms/step\n",
            "modi is the whole there is\n"
          ]
        }
      ]
    }
  ]
}